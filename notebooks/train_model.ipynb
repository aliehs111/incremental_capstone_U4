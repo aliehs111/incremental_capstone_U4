{
 "cells": [
  {
   "cell_type": "code",
   "execution_count": null,
   "id": "fc9bfc02-3be6-4b75-9a4c-37a641fdb163",
   "metadata": {},
   "outputs": [],
   "source": [
    " import tensorflow as tf\n",
    "   from tensorflow.keras import layers, models, callbacks\n",
    "\n",
    "   # Match the image size and batch size used in preprocessing\n",
    "   IMG_HEIGHT = 128\n",
    "   IMG_WIDTH  = 128\n",
    "   BATCH_SIZE = 32"
   ]
  },
  {
   "cell_type": "code",
   "execution_count": null,
   "id": "c20a649b-75f0-45d9-86f5-e2e16309cebf",
   "metadata": {},
   "outputs": [],
   "source": [
    "# define architecture\n",
    "def build_cnn_model(input_shape=(IMG_HEIGHT, IMG_WIDTH, 3)):\n",
    "    model = models.Sequential([\n",
    "        # Block 1\n",
    "        layers.Conv2D(32, (3, 3), activation='relu', input_shape=input_shape),\n",
    "        layers.BatchNormalization(),\n",
    "        layers.MaxPooling2D((2, 2)),\n",
    "\n",
    "        # Block 2\n",
    "        layers.Conv2D(64, (3, 3), activation='relu'),\n",
    "        layers.BatchNormalization(),\n",
    "        layers.MaxPooling2D((2, 2)),\n",
    "\n",
    "        # Block 3\n",
    "        layers.Conv2D(128, (3, 3), activation='relu'),\n",
    "        layers.BatchNormalization(),\n",
    "        layers.MaxPooling2D((2, 2)),\n",
    "\n",
    "        # Flatten & Dense layers\n",
    "        layers.Flatten(),\n",
    "        layers.Dense(128, activation='relu'),\n",
    "        layers.Dropout(0.5),\n",
    "        layers.Dense(1, activation='sigmoid')  # Binary output: 0 = bike, 1 = car\n",
    "    ])\n",
    "    return model\n",
    "\n",
    "# Instantiate the model\n",
    "model = build_cnn_model()\n",
    "\n",
    "# Print a summary to verify layer shapes and parameter counts\n",
    "model.summary()\n"
   ]
  },
  {
   "cell_type": "code",
   "execution_count": null,
   "id": "af995fe7-8637-4ab6-b855-1fa09b635d05",
   "metadata": {},
   "outputs": [],
   "source": [
    "# compile model\n",
    "model.compile(\n",
    "    optimizer = tf.keras.optimizers.Adam(learning_rate=1e-4),\n",
    "    loss      = 'binary_crossentropy',\n",
    "    metrics   = ['accuracy']\n",
    ")\n",
    "\n"
   ]
  },
  {
   "cell_type": "code",
   "execution_count": null,
   "id": "8fd65906-e14e-427a-bd89-d62ce2aa6361",
   "metadata": {},
   "outputs": [],
   "source": [
    "# Early stopping: stop if val_accuracy doesn’t improve for 5 epochs\n",
    "early_stop = callbacks.EarlyStopping(\n",
    "    monitor='val_accuracy',\n",
    "    patience=5,\n",
    "    restore_best_weights=True\n",
    ")\n",
    "\n",
    "# Save the best model weights to a file\n",
    "checkpoint = callbacks.ModelCheckpoint(\n",
    "    'best_bike_car_model.h5',\n",
    "    monitor='val_accuracy',\n",
    "    save_best_only=True\n",
    ")\n"
   ]
  },
  {
   "cell_type": "code",
   "execution_count": null,
   "id": "aa2989ce-e2fd-4ced-8ee6-35d07c825718",
   "metadata": {},
   "outputs": [],
   "source": [
    "EPOCHS = 20\n",
    "\n",
    "history = model.fit(\n",
    "    train_ds,\n",
    "    validation_data = val_ds,\n",
    "    epochs          = EPOCHS,\n",
    "    callbacks       = [early_stop, checkpoint],\n",
    "    verbose         = 2\n",
    ")\n"
   ]
  },
  {
   "cell_type": "code",
   "execution_count": null,
   "id": "3f815bba-7b76-4685-8ef5-0781cdec9c4f",
   "metadata": {},
   "outputs": [],
   "source": [
    "# Load the saved weights\n",
    "model.load_weights('best_bike_car_model.h5')\n",
    "\n",
    "# Evaluate on val_ds\n",
    "val_loss, val_acc = model.evaluate(val_ds, verbose=2)\n",
    "print(f\"Validation Accuracy: {val_acc:.4f}\")\n"
   ]
  },
  {
   "cell_type": "code",
   "execution_count": null,
   "id": "d2f50e5c-2203-4752-ac18-4eb4721e5204",
   "metadata": {},
   "outputs": [],
   "source": [
    "import numpy as np\n",
    "from sklearn.metrics import classification_report, confusion_matrix\n",
    "\n",
    "# Gather true labels and predicted labels\n",
    "y_true = []\n",
    "y_pred = []\n",
    "\n",
    "for images, labels in val_ds:\n",
    "    preds = model.predict(images).flatten()\n",
    "    labels = labels.numpy().astype(int)\n",
    "    preds_binary = (preds >= 0.5).astype(int)\n",
    "\n",
    "    y_true.extend(labels)\n",
    "    y_pred.extend(preds_binary)\n",
    "\n",
    "y_true = np.array(y_true)\n",
    "y_pred = np.array(y_pred)\n",
    "\n",
    "# Confusion matrix\n",
    "cm = confusion_matrix(y_true, y_pred)\n",
    "print(\"Confusion Matrix:\\n\", cm)\n",
    "\n",
    "# Classification report (precision, recall, F1)\n",
    "report = classification_report(y_true, y_pred, target_names=['Bike', 'Car'])\n",
    "print(\"Classification Report:\\n\", report)\n"
   ]
  }
 ],
 "metadata": {
  "kernelspec": {
   "display_name": "Python 3 (ipykernel)",
   "language": "python",
   "name": "python3"
  },
  "language_info": {
   "codemirror_mode": {
    "name": "ipython",
    "version": 3
   },
   "file_extension": ".py",
   "mimetype": "text/x-python",
   "name": "python",
   "nbconvert_exporter": "python",
   "pygments_lexer": "ipython3",
   "version": "3.11.0"
  }
 },
 "nbformat": 4,
 "nbformat_minor": 5
}
